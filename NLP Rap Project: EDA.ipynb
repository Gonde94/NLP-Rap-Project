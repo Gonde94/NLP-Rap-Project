{
 "cells": [
  {
   "cell_type": "markdown",
   "id": "d2995725",
   "metadata": {},
   "source": [
    "# EDA"
   ]
  },
  {
   "cell_type": "code",
   "execution_count": 2,
   "id": "a69ee3b3",
   "metadata": {},
   "outputs": [],
   "source": [
    "from sklearn.feature_extraction.text import CountVectorizer\n",
    "import pandas as pd"
   ]
  },
  {
   "cell_type": "code",
   "execution_count": 3,
   "id": "2a688209",
   "metadata": {},
   "outputs": [],
   "source": [
    "data = pd.read_pickle('dtm.pkl')"
   ]
  },
  {
   "cell_type": "code",
   "execution_count": 4,
   "id": "a83c3b9d",
   "metadata": {},
   "outputs": [],
   "source": [
    "data = data.transpose()"
   ]
  },
  {
   "cell_type": "code",
   "execution_count": 5,
   "id": "5d3f0287",
   "metadata": {},
   "outputs": [
    {
     "data": {
      "text/html": [
       "<div>\n",
       "<style scoped>\n",
       "    .dataframe tbody tr th:only-of-type {\n",
       "        vertical-align: middle;\n",
       "    }\n",
       "\n",
       "    .dataframe tbody tr th {\n",
       "        vertical-align: top;\n",
       "    }\n",
       "\n",
       "    .dataframe thead th {\n",
       "        text-align: right;\n",
       "    }\n",
       "</style>\n",
       "<table border=\"1\" class=\"dataframe\">\n",
       "  <thead>\n",
       "    <tr style=\"text-align: right;\">\n",
       "      <th></th>\n",
       "      <th>2pac</th>\n",
       "      <th>A Tribe Called Quest</th>\n",
       "      <th>Immortal Technique</th>\n",
       "      <th>Jay-z and Kanye West</th>\n",
       "      <th>Kendrick Lamar</th>\n",
       "      <th>Logic</th>\n",
       "      <th>N.W.A.</th>\n",
       "      <th>Nas</th>\n",
       "      <th>Outkast</th>\n",
       "      <th>The Notorious B.I.G.</th>\n",
       "      <th>Tyler the Creator</th>\n",
       "      <th>Wu-Tang Clan</th>\n",
       "    </tr>\n",
       "  </thead>\n",
       "  <tbody>\n",
       "    <tr>\n",
       "      <th>aa</th>\n",
       "      <td>0</td>\n",
       "      <td>0</td>\n",
       "      <td>1</td>\n",
       "      <td>0</td>\n",
       "      <td>0</td>\n",
       "      <td>1</td>\n",
       "      <td>0</td>\n",
       "      <td>0</td>\n",
       "      <td>0</td>\n",
       "      <td>0</td>\n",
       "      <td>0</td>\n",
       "      <td>0</td>\n",
       "    </tr>\n",
       "    <tr>\n",
       "      <th>aaaahah</th>\n",
       "      <td>0</td>\n",
       "      <td>0</td>\n",
       "      <td>0</td>\n",
       "      <td>0</td>\n",
       "      <td>0</td>\n",
       "      <td>0</td>\n",
       "      <td>0</td>\n",
       "      <td>0</td>\n",
       "      <td>0</td>\n",
       "      <td>0</td>\n",
       "      <td>0</td>\n",
       "      <td>1</td>\n",
       "    </tr>\n",
       "    <tr>\n",
       "      <th>aaaahhh</th>\n",
       "      <td>0</td>\n",
       "      <td>0</td>\n",
       "      <td>0</td>\n",
       "      <td>0</td>\n",
       "      <td>0</td>\n",
       "      <td>0</td>\n",
       "      <td>0</td>\n",
       "      <td>0</td>\n",
       "      <td>0</td>\n",
       "      <td>0</td>\n",
       "      <td>1</td>\n",
       "      <td>0</td>\n",
       "    </tr>\n",
       "    <tr>\n",
       "      <th>aah</th>\n",
       "      <td>0</td>\n",
       "      <td>0</td>\n",
       "      <td>0</td>\n",
       "      <td>0</td>\n",
       "      <td>0</td>\n",
       "      <td>0</td>\n",
       "      <td>0</td>\n",
       "      <td>0</td>\n",
       "      <td>0</td>\n",
       "      <td>0</td>\n",
       "      <td>0</td>\n",
       "      <td>1</td>\n",
       "    </tr>\n",
       "    <tr>\n",
       "      <th>aames</th>\n",
       "      <td>0</td>\n",
       "      <td>0</td>\n",
       "      <td>0</td>\n",
       "      <td>0</td>\n",
       "      <td>0</td>\n",
       "      <td>1</td>\n",
       "      <td>0</td>\n",
       "      <td>0</td>\n",
       "      <td>0</td>\n",
       "      <td>0</td>\n",
       "      <td>0</td>\n",
       "      <td>0</td>\n",
       "    </tr>\n",
       "  </tbody>\n",
       "</table>\n",
       "</div>"
      ],
      "text/plain": [
       "         2pac  A Tribe Called Quest  Immortal Technique  Jay-z and Kanye West  \\\n",
       "aa          0                     0                   1                     0   \n",
       "aaaahah     0                     0                   0                     0   \n",
       "aaaahhh     0                     0                   0                     0   \n",
       "aah         0                     0                   0                     0   \n",
       "aames       0                     0                   0                     0   \n",
       "\n",
       "         Kendrick Lamar  Logic  N.W.A.  Nas  Outkast  The Notorious B.I.G.  \\\n",
       "aa                    0      1       0    0        0                     0   \n",
       "aaaahah               0      0       0    0        0                     0   \n",
       "aaaahhh               0      0       0    0        0                     0   \n",
       "aah                   0      0       0    0        0                     0   \n",
       "aames                 0      1       0    0        0                     0   \n",
       "\n",
       "         Tyler the Creator  Wu-Tang Clan  \n",
       "aa                       0             0  \n",
       "aaaahah                  0             1  \n",
       "aaaahhh                  1             0  \n",
       "aah                      0             1  \n",
       "aames                    0             0  "
      ]
     },
     "execution_count": 5,
     "metadata": {},
     "output_type": "execute_result"
    }
   ],
   "source": [
    "data.head()"
   ]
  },
  {
   "cell_type": "markdown",
   "id": "e07d5cc8",
   "metadata": {},
   "source": [
    "## Find top 30 words used by each artist"
   ]
  },
  {
   "cell_type": "code",
   "execution_count": 6,
   "id": "15243c50",
   "metadata": {},
   "outputs": [],
   "source": [
    "top_dict = {}\n",
    "for e in data.columns:\n",
    "    top = data[e].sort_values(ascending=False).head(30)\n",
    "    top_dict[e] = list(zip(top.index, top.values))"
   ]
  },
  {
   "cell_type": "code",
   "execution_count": 9,
   "id": "b7437e69",
   "metadata": {},
   "outputs": [
    {
     "data": {
      "text/plain": [
       "{'2pac': [('life', 63), ('nigga', 60), ('im', 58), ('niggas', 52), ('yeah', 47), ('got', 47), ('way', 46), ('dont', 44), ('know', 39), ('cause', 38), ('thats', 38), ('die', 36), ('ya', 34), ('fuck', 32), ('aint', 31), ('live', 28), ('come', 26), ('like', 25), ('mama', 24), ('shake', 24), ('just', 23), ('let', 23), ('thug', 23), ('gettin', 23), ('time', 22), ('love', 21), ('money', 21), ('shit', 20), ('la', 20), ('eyes', 20)], 'A Tribe Called Quest': [('buggin', 66), ('make', 48), ('gotta', 45), ('like', 39), ('girl', 38), ('relax', 37), ('settle', 36), ('dont', 35), ('got', 35), ('bonita', 35), ('qtip', 33), ('let', 33), ('check', 31), ('phife', 29), ('yo', 29), ('yall', 26), ('happen', 25), ('applebum', 25), ('kick', 24), ('cause', 23), ('youre', 23), ('just', 22), ('jazz', 20), ('somethin', 20), ('ya', 20), ('know', 19), ('yes', 19), ('time', 18), ('rhyme', 18), ('dawg', 18)], 'Immortal Technique': [('like', 72), ('cause', 49), ('im', 45), ('dont', 38), ('people', 37), ('know', 36), ('nigga', 33), ('just', 30), ('god', 22), ('shit', 21), ('niggas', 21), ('fuck', 21), ('technique', 21), ('got', 20), ('yeah', 19), ('immortal', 16), ('life', 15), ('government', 15), ('live', 15), ('love', 15), ('want', 15), ('world', 14), ('way', 14), ('thats', 14), ('fuckin', 14), ('point', 14), ('motherfucker', 13), ('devil', 13), ('make', 12), ('truth', 12)], 'Jay-z and Kanye West': [('im', 69), ('like', 48), ('got', 45), ('kanye', 39), ('west', 39), ('niggas', 37), ('know', 37), ('black', 35), ('murder', 33), ('dont', 33), ('love', 29), ('need', 29), ('nigga', 29), ('uh', 29), ('gon', 26), ('stop', 24), ('aint', 24), ('jayz', 24), ('shit', 23), ('hard', 21), ('huh', 20), ('whats', 20), ('let', 19), ('yeah', 19), ('slow', 19), ('motion', 18), ('just', 17), ('cause', 16), ('ball', 15), ('ill', 15)], 'Kendrick Lamar': [('bitch', 77), ('got', 68), ('hol', 61), ('kendrick', 61), ('just', 53), ('lamar', 50), ('dont', 48), ('love', 41), ('nigga', 38), ('like', 35), ('drank', 33), ('kill', 32), ('im', 32), ('wanna', 31), ('funk', 30), ('sit', 29), ('lil', 28), ('way', 28), ('ayy', 27), ('vibe', 27), ('ya', 25), ('bish', 24), ('know', 24), ('yeah', 23), ('shit', 23), ('feel', 22), ('aint', 22), ('thats', 22), ('dna', 20), ('tell', 19)], 'Logic': [('im', 117), ('like', 111), ('know', 87), ('dont', 52), ('wanna', 47), ('yeah', 43), ('just', 41), ('shit', 39), ('everybody', 36), ('feel', 36), ('fuck', 35), ('man', 33), ('aint', 33), ('let', 28), ('black', 28), ('logic', 25), ('mind', 25), ('right', 24), ('life', 24), ('love', 24), ('em', 21), ('youre', 20), ('ima', 19), ('gotta', 19), ('alive', 18), ('god', 18), ('got', 18), ('thats', 18), ('uh', 18), ('ive', 17)], 'N.W.A.': [('fuck', 135), ('im', 81), ('cause', 71), ('nigga', 67), ('like', 62), ('bitch', 54), ('shit', 49), ('yo', 49), ('dont', 48), ('dre', 45), ('man', 42), ('niggas', 41), ('ren', 38), ('thats', 37), ('ass', 34), ('got', 34), ('cube', 32), ('ice', 32), ('dr', 31), ('police', 30), ('know', 28), ('dopeman', 28), ('aint', 26), ('compton', 26), ('mc', 25), ('imma', 25), ('say', 24), ('just', 24), ('yeah', 24), ('gangsta', 24)], 'Nas': [('love', 78), ('world', 62), ('like', 43), ('niggas', 42), ('im', 41), ('nas', 36), ('represent', 35), ('know', 32), ('cause', 31), ('shit', 29), ('man', 26), ('yall', 25), ('em', 25), ('aint', 22), ('black', 20), ('ruled', 20), ('got', 20), ('fuck', 19), ('life', 18), ('thats', 18), ('new', 18), ('time', 18), ('ill', 17), ('bitch', 16), ('mind', 16), ('son', 15), ('yo', 15), ('nigga', 15), ('state', 14), ('sleep', 14)], 'Outkast': [('like', 101), ('clean', 74), ('im', 64), ('just', 54), ('andré', 53), ('dont', 51), ('fresh', 49), ('yeah', 36), ('know', 36), ('bitch', 35), ('hey', 32), ('ya', 31), ('damn', 27), ('really', 27), ('aint', 27), ('shit', 27), ('big', 26), ('roses', 25), ('da', 24), ('smell', 24), ('ja', 24), ('poopooooh', 24), ('boi', 22), ('think', 22), ('uhoh', 21), ('got', 21), ('ooh', 20), ('right', 20), ('make', 19), ('little', 17)], 'The Notorious B.I.G.': [('biggie', 139), ('bad', 61), ('im', 59), ('nigga', 57), ('bone', 57), ('big', 50), ('know', 48), ('like', 45), ('motherfuckers', 44), ('just', 43), ('ride', 41), ('lets', 41), ('high', 39), ('dont', 37), ('uh', 36), ('loot', 34), ('gimme', 34), ('niggas', 33), ('come', 32), ('notorious', 32), ('shit', 32), ('cause', 27), ('love', 27), ('money', 27), ('thats', 26), ('got', 26), ('aint', 25), ('man', 24), ('tell', 22), ('need', 21)], 'Tyler the Creator': [('im', 66), ('dont', 56), ('like', 53), ('tyler', 51), ('creator', 47), ('fuck', 42), ('la', 35), ('nigga', 32), ('okay', 32), ('youre', 31), ('yeah', 28), ('make', 28), ('magic', 27), ('love', 26), ('cause', 25), ('leave', 25), ('time', 23), ('just', 22), ('got', 20), ('fucking', 20), ('fuckin', 19), ('real', 18), ('need', 17), ('new', 17), ('know', 17), ('shit', 17), ('thats', 16), ('wolf', 16), ('said', 16), ('wanna', 15)], 'Wu-Tang Clan': [('like', 120), ('man', 68), ('im', 61), ('yo', 60), ('fuckin', 51), ('wutang', 46), ('method', 45), ('bring', 43), ('niggas', 39), ('got', 37), ('fuck', 37), ('nigga', 30), ('shit', 29), ('style', 28), ('da', 27), ('rza', 27), ('god', 27), ('ya', 26), ('ill', 26), ('ruckus', 24), ('dollar', 23), ('aint', 23), ('clan', 23), ('motherfuckin', 22), ('dirty', 22), ('kid', 22), ('yeah', 21), ('ol', 20), ('word', 19), ('come', 19)]}"
      ]
     },
     "execution_count": 9,
     "metadata": {},
     "output_type": "execute_result"
    }
   ],
   "source": [
    "top_dict"
   ]
  },
  {
   "cell_type": "code",
   "execution_count": 10,
   "id": "59e5537a",
   "metadata": {},
   "outputs": [],
   "source": [
    "#add more stop words\n",
    "\n",
    "add_stop_words = ['im','ive','dont','rza','aint','youre','ther','thats','ill','dr','ice','cube',\n",
    "                 'nas','2pac','andré','gotta','tyler','creator','wanna','like','just','jayz','kanye',\n",
    "                 'em','yall','cmon','uh','oh','la','ya','aa','raekwon','eazye','ren','ima','west',\n",
    "                 'whats','da','ja','gon','got','gotta','imma','jay','logic','dre','inspectah','qtip',\n",
    "                 'phife','hes','shes','aaaahhh','aaaahah','aah','technique','immortal','boi','biggie',\n",
    "                 'notorious','uhoh','ooh', 'bastard', 'ol', 'gimme', 'kendrick', 'lamar', 'ayy','yeah']"
   ]
  },
  {
   "cell_type": "code",
   "execution_count": 12,
   "id": "99f07e37",
   "metadata": {},
   "outputs": [],
   "source": [
    "#update document-term matrix with new list of stop words\n",
    "from sklearn.feature_extraction import text\n",
    "stop_words = text.ENGLISH_STOP_WORDS.union(add_stop_words)\n",
    "\n",
    "#read in cleaned data\n",
    "data_clean = pd.read_pickle('data_clean.pkl')\n",
    "\n",
    "cv = CountVectorizer(stop_words=stop_words)\n",
    "data_cv = cv.fit_transform(data_clean.Lyrics)\n",
    "data_stop = pd.DataFrame(data_cv.toarray(), columns=cv.get_feature_names_out())\n",
    "data_stop.index = data_clean.index"
   ]
  },
  {
   "cell_type": "code",
   "execution_count": 13,
   "id": "53fb63bc",
   "metadata": {},
   "outputs": [],
   "source": [
    "#pickle for later use\n",
    "import pickle\n",
    "pickle.dump(cv, open('cv_stop.pkl', 'wb'))\n",
    "data_stop.to_pickle('dtm_stop.pkl')"
   ]
  },
  {
   "cell_type": "code",
   "execution_count": 14,
   "id": "da680f8f",
   "metadata": {},
   "outputs": [],
   "source": [
    "new_dtm = data_stop.transpose()"
   ]
  },
  {
   "cell_type": "code",
   "execution_count": 15,
   "id": "a335423b",
   "metadata": {},
   "outputs": [],
   "source": [
    "top_dict_new = {}\n",
    "\n",
    "for e in new_dtm.columns:\n",
    "    top = new_dtm[e].sort_values(ascending=False).head(30)\n",
    "    top_dict_new[e] = list(zip(top.index, top.values))"
   ]
  },
  {
   "cell_type": "code",
   "execution_count": 16,
   "id": "1dbc7a45",
   "metadata": {},
   "outputs": [
    {
     "data": {
      "text/plain": [
       "{'2pac': [('life', 63), ('nigga', 60), ('niggas', 52), ('way', 46), ('know', 39), ('cause', 38), ('die', 36), ('fuck', 32), ('live', 28), ('come', 26), ('mama', 24), ('shake', 24), ('let', 23), ('thug', 23), ('gettin', 23), ('time', 22), ('money', 21), ('love', 21), ('eyes', 20), ('shit', 20), ('head', 19), ('make', 19), ('ridah', 18), ('day', 17), ('mary', 16), ('ride', 16), ('hail', 16), ('right', 16), ('goes', 16), ('motherfuckers', 16)], 'A Tribe Called Quest': [('buggin', 66), ('make', 48), ('girl', 38), ('relax', 37), ('settle', 36), ('bonita', 35), ('let', 33), ('check', 31), ('yo', 29), ('applebum', 25), ('happen', 25), ('kick', 24), ('cause', 23), ('somethin', 20), ('jazz', 20), ('yes', 19), ('know', 19), ('rhyme', 18), ('time', 18), ('dawg', 18), ('stop', 17), ('brothers', 16), ('come', 16), ('niggas', 15), ('really', 15), ('people', 14), ('man', 13), ('space', 12), ('tribe', 12), ('said', 12)], 'Immortal Technique': [('cause', 49), ('people', 37), ('know', 36), ('nigga', 33), ('god', 22), ('niggas', 21), ('shit', 21), ('fuck', 21), ('love', 15), ('want', 15), ('life', 15), ('government', 15), ('live', 15), ('point', 14), ('world', 14), ('way', 14), ('fuckin', 14), ('motherfucker', 13), ('devil', 13), ('truth', 12), ('make', 12), ('burn', 11), ('man', 11), ('stop', 11), ('white', 11), ('face', 11), ('didnt', 10), ('better', 10), ('america', 10), ('ll', 10)], 'Jay-z and Kanye West': [('know', 37), ('niggas', 37), ('black', 35), ('murder', 33), ('need', 29), ('nigga', 29), ('love', 29), ('stop', 24), ('shit', 23), ('hard', 21), ('huh', 20), ('let', 19), ('slow', 19), ('motion', 18), ('cause', 16), ('ball', 15), ('money', 14), ('fuck', 12), ('motherfuckers', 10), ('til', 10), ('motherfucker', 10), ('zone', 10), ('god', 9), ('die', 9), ('church', 9), ('hey', 9), ('right', 8), ('blackonblack', 8), ('read', 8), ('bitch', 8)], 'Kendrick Lamar': [('bitch', 77), ('hol', 61), ('love', 41), ('nigga', 38), ('drank', 33), ('kill', 32), ('funk', 30), ('sit', 29), ('lil', 28), ('way', 28), ('vibe', 27), ('bish', 24), ('know', 24), ('shit', 23), ('feel', 22), ('dna', 20), ('want', 19), ('run', 19), ('tell', 19), ('inside', 18), ('fuck', 18), ('say', 18), ('humble', 17), ('life', 16), ('money', 15), ('world', 15), ('niggas', 13), ('pool', 13), ('kunta', 13), ('liquor', 13)], 'Logic': [('know', 87), ('shit', 39), ('feel', 36), ('everybody', 36), ('fuck', 35), ('man', 33), ('black', 28), ('let', 28), ('mind', 25), ('love', 24), ('right', 24), ('life', 24), ('alive', 18), ('god', 18), ('feelin', 17), ('cause', 17), ('tell', 17), ('need', 17), ('die', 16), ('hit', 14), ('people', 14), ('don', 13), ('time', 13), ('hard', 13), ('fuckin', 13), ('think', 12), ('slave', 12), ('livin', 12), ('hold', 12), ('bobby', 12)], 'N.W.A.': [('fuck', 135), ('cause', 71), ('nigga', 67), ('bitch', 54), ('yo', 49), ('shit', 49), ('man', 42), ('niggas', 41), ('ass', 34), ('police', 30), ('dopeman', 28), ('know', 28), ('compton', 26), ('mc', 25), ('gangsta', 24), ('say', 24), ('motherfucker', 20), ('real', 19), ('come', 18), ('smoke', 18), ('express', 17), ('think', 16), ('right', 16), ('straight', 15), ('make', 15), ('dope', 13), ('money', 13), ('hit', 13), ('tell', 13), ('motherfucking', 12)], 'Nas': [('love', 78), ('world', 62), ('niggas', 42), ('represent', 35), ('know', 32), ('cause', 31), ('shit', 29), ('man', 26), ('black', 20), ('ruled', 20), ('fuck', 19), ('time', 18), ('new', 18), ('life', 18), ('mind', 16), ('bitch', 16), ('son', 15), ('yo', 15), ('nigga', 15), ('state', 14), ('sleep', 14), ('york', 13), ('rock', 13), ('big', 11), ('die', 11), ('right', 10), ('id', 10), ('lifes', 10), ('plus', 9), ('imagine', 9)], 'Outkast': [('clean', 74), ('fresh', 49), ('know', 36), ('bitch', 35), ('hey', 32), ('shit', 27), ('really', 27), ('damn', 27), ('big', 26), ('roses', 25), ('smell', 24), ('poopooooh', 24), ('think', 22), ('right', 20), ('make', 19), ('ragtop', 17), ('crazy', 17), ('bob', 17), ('little', 17), ('real', 17), ('nigga', 16), ('way', 16), ('head', 16), ('say', 16), ('hook', 15), ('jackson', 14), ('cause', 14), ('dope', 14), ('let', 13), ('ms', 13)], 'The Notorious B.I.G.': [('bad', 61), ('bone', 57), ('nigga', 57), ('big', 50), ('know', 48), ('motherfuckers', 44), ('lets', 41), ('ride', 41), ('high', 39), ('loot', 34), ('niggas', 33), ('shit', 32), ('come', 32), ('money', 27), ('cause', 27), ('love', 27), ('man', 24), ('tell', 22), ('need', 21), ('good', 20), ('puff', 20), ('fuck', 20), ('daddy', 19), ('party', 18), ('rock', 18), ('everybody', 18), ('poppa', 17), ('want', 17), ('right', 17), ('baby', 16)], 'Tyler the Creator': [('fuck', 42), ('okay', 32), ('nigga', 32), ('make', 28), ('magic', 27), ('love', 26), ('leave', 25), ('cause', 25), ('time', 23), ('fucking', 20), ('fuckin', 19), ('real', 18), ('new', 17), ('shit', 17), ('know', 17), ('need', 17), ('wolf', 16), ('said', 16), ('want', 14), ('girl', 13), ('bitch', 12), ('good', 12), ('say', 12), ('lonely', 12), ('boy', 12), ('earth', 12), ('sick', 11), ('catch', 10), ('quake', 10), ('hate', 10)], 'Wu-Tang Clan': [('man', 68), ('yo', 60), ('fuckin', 51), ('wutang', 46), ('method', 45), ('bring', 43), ('niggas', 39), ('fuck', 37), ('nigga', 30), ('shit', 29), ('style', 28), ('god', 27), ('ruckus', 24), ('clan', 23), ('dollar', 23), ('motherfuckin', 22), ('kid', 22), ('dirty', 22), ('come', 19), ('word', 19), ('step', 18), ('comin', 18), ('watch', 16), ('cream', 15), ('wu', 14), ('cash', 14), ('make', 14), ('meth', 13), ('rules', 13), ('know', 13)]}"
      ]
     },
     "execution_count": 16,
     "metadata": {},
     "output_type": "execute_result"
    }
   ],
   "source": [
    "top_dict_new"
   ]
  },
  {
   "cell_type": "markdown",
   "id": "b262b322",
   "metadata": {},
   "source": [
    "## Find number of unique words per artist"
   ]
  },
  {
   "cell_type": "code",
   "execution_count": 17,
   "id": "dcd6ce20",
   "metadata": {},
   "outputs": [],
   "source": [
    "unique_list = []\n",
    "for e in new_dtm.columns:\n",
    "    unique = new_dtm[e].to_numpy().nonzero()[0].size\n",
    "    unique_list.append(unique)"
   ]
  },
  {
   "cell_type": "code",
   "execution_count": 20,
   "id": "a5634acf",
   "metadata": {},
   "outputs": [],
   "source": [
    "#dataframe for this word count\n",
    "artistnames = ['Wu-Tang Clan','A Tribe Called Quest','N.W.A.','Outkast','Nas','The Notorious B.I.G.',\n",
    "               '2pac','Logic','Jay-z and Kanye West','Tyler the Creator','Immortal Technique', 'Kendrick Lamar']\n",
    "data_words = pd.DataFrame(list(zip(artistnames, unique_list)), columns=['Artist', 'Unique Words'])\n",
    "data_unique_sort = data_words.sort_values(by='Unique Words',ascending=False)"
   ]
  },
  {
   "cell_type": "code",
   "execution_count": 21,
   "id": "2f6300b6",
   "metadata": {},
   "outputs": [
    {
     "data": {
      "text/html": [
       "<div>\n",
       "<style scoped>\n",
       "    .dataframe tbody tr th:only-of-type {\n",
       "        vertical-align: middle;\n",
       "    }\n",
       "\n",
       "    .dataframe tbody tr th {\n",
       "        vertical-align: top;\n",
       "    }\n",
       "\n",
       "    .dataframe thead th {\n",
       "        text-align: right;\n",
       "    }\n",
       "</style>\n",
       "<table border=\"1\" class=\"dataframe\">\n",
       "  <thead>\n",
       "    <tr style=\"text-align: right;\">\n",
       "      <th></th>\n",
       "      <th>Artist</th>\n",
       "      <th>Unique Words</th>\n",
       "    </tr>\n",
       "  </thead>\n",
       "  <tbody>\n",
       "    <tr>\n",
       "      <th>2</th>\n",
       "      <td>N.W.A.</td>\n",
       "      <td>1918</td>\n",
       "    </tr>\n",
       "    <tr>\n",
       "      <th>11</th>\n",
       "      <td>Kendrick Lamar</td>\n",
       "      <td>1766</td>\n",
       "    </tr>\n",
       "    <tr>\n",
       "      <th>7</th>\n",
       "      <td>Logic</td>\n",
       "      <td>1587</td>\n",
       "    </tr>\n",
       "    <tr>\n",
       "      <th>0</th>\n",
       "      <td>Wu-Tang Clan</td>\n",
       "      <td>1335</td>\n",
       "    </tr>\n",
       "    <tr>\n",
       "      <th>9</th>\n",
       "      <td>Tyler the Creator</td>\n",
       "      <td>1334</td>\n",
       "    </tr>\n",
       "    <tr>\n",
       "      <th>4</th>\n",
       "      <td>Nas</td>\n",
       "      <td>1281</td>\n",
       "    </tr>\n",
       "    <tr>\n",
       "      <th>6</th>\n",
       "      <td>2pac</td>\n",
       "      <td>1266</td>\n",
       "    </tr>\n",
       "    <tr>\n",
       "      <th>1</th>\n",
       "      <td>A Tribe Called Quest</td>\n",
       "      <td>1261</td>\n",
       "    </tr>\n",
       "    <tr>\n",
       "      <th>8</th>\n",
       "      <td>Jay-z and Kanye West</td>\n",
       "      <td>1181</td>\n",
       "    </tr>\n",
       "    <tr>\n",
       "      <th>5</th>\n",
       "      <td>The Notorious B.I.G.</td>\n",
       "      <td>1162</td>\n",
       "    </tr>\n",
       "    <tr>\n",
       "      <th>10</th>\n",
       "      <td>Immortal Technique</td>\n",
       "      <td>1104</td>\n",
       "    </tr>\n",
       "    <tr>\n",
       "      <th>3</th>\n",
       "      <td>Outkast</td>\n",
       "      <td>1086</td>\n",
       "    </tr>\n",
       "  </tbody>\n",
       "</table>\n",
       "</div>"
      ],
      "text/plain": [
       "                  Artist  Unique Words\n",
       "2                 N.W.A.          1918\n",
       "11        Kendrick Lamar          1766\n",
       "7                  Logic          1587\n",
       "0           Wu-Tang Clan          1335\n",
       "9      Tyler the Creator          1334\n",
       "4                    Nas          1281\n",
       "6                   2pac          1266\n",
       "1   A Tribe Called Quest          1261\n",
       "8   Jay-z and Kanye West          1181\n",
       "5   The Notorious B.I.G.          1162\n",
       "10    Immortal Technique          1104\n",
       "3                Outkast          1086"
      ]
     },
     "execution_count": 21,
     "metadata": {},
     "output_type": "execute_result"
    }
   ],
   "source": [
    "data_unique_sort"
   ]
  },
  {
   "cell_type": "markdown",
   "id": "2478e2b9",
   "metadata": {},
   "source": [
    "## Calculate amount of profanity per artist"
   ]
  },
  {
   "cell_type": "code",
   "execution_count": 22,
   "id": "f9e846b8",
   "metadata": {},
   "outputs": [],
   "source": [
    "from collections import Counter"
   ]
  },
  {
   "cell_type": "code",
   "execution_count": 23,
   "id": "72112748",
   "metadata": {},
   "outputs": [
    {
     "data": {
      "text/plain": [
       "[('Wu-Tang Clan', [('man', 68), ('yo', 60), ('fuckin', 51), ('wutang', 46), ('method', 45), ('bring', 43), ('niggas', 39), ('fuck', 37), ('nigga', 30), ('shit', 29), ('style', 28), ('god', 27), ('ruckus', 24), ('clan', 23), ('dollar', 23), ('motherfuckin', 22), ('kid', 22), ('dirty', 22), ('come', 19), ('word', 19), ('step', 18), ('comin', 18), ('watch', 16), ('cream', 15), ('wu', 14), ('cash', 14), ('make', 14), ('meth', 13), ('rules', 13), ('know', 13)]), ('Nas', [('love', 78), ('world', 62), ('niggas', 42), ('represent', 35), ('know', 32), ('cause', 31), ('shit', 29), ('man', 26), ('black', 20), ('ruled', 20), ('fuck', 19), ('time', 18), ('new', 18), ('life', 18), ('mind', 16), ('bitch', 16), ('son', 15), ('yo', 15), ('nigga', 15), ('state', 14), ('sleep', 14), ('york', 13), ('rock', 13), ('big', 11), ('die', 11), ('right', 10), ('id', 10), ('lifes', 10), ('plus', 9), ('imagine', 9)]), ('2pac', [('life', 63), ('nigga', 60), ('niggas', 52), ('way', 46), ('know', 39), ('cause', 38), ('die', 36), ('fuck', 32), ('live', 28), ('come', 26), ('mama', 24), ('shake', 24), ('let', 23), ('thug', 23), ('gettin', 23), ('time', 22), ('money', 21), ('love', 21), ('eyes', 20), ('shit', 20), ('head', 19), ('make', 19), ('ridah', 18), ('day', 17), ('mary', 16), ('ride', 16), ('hail', 16), ('right', 16), ('goes', 16), ('motherfuckers', 16)]), ('Logic', [('know', 87), ('shit', 39), ('feel', 36), ('everybody', 36), ('fuck', 35), ('man', 33), ('black', 28), ('let', 28), ('mind', 25), ('love', 24), ('right', 24), ('life', 24), ('alive', 18), ('god', 18), ('feelin', 17), ('cause', 17), ('tell', 17), ('need', 17), ('die', 16), ('hit', 14), ('people', 14), ('don', 13), ('time', 13), ('hard', 13), ('fuckin', 13), ('think', 12), ('slave', 12), ('livin', 12), ('hold', 12), ('bobby', 12)]), ('Jay-z and Kanye West', [('know', 37), ('niggas', 37), ('black', 35), ('murder', 33), ('need', 29), ('nigga', 29), ('love', 29), ('stop', 24), ('shit', 23), ('hard', 21), ('huh', 20), ('let', 19), ('slow', 19), ('motion', 18), ('cause', 16), ('ball', 15), ('money', 14), ('fuck', 12), ('motherfuckers', 10), ('til', 10), ('motherfucker', 10), ('zone', 10), ('god', 9), ('die', 9), ('church', 9), ('hey', 9), ('right', 8), ('blackonblack', 8), ('read', 8), ('bitch', 8)]), ('N.W.A.', [('fuck', 135), ('cause', 71), ('nigga', 67), ('bitch', 54), ('yo', 49), ('shit', 49), ('man', 42), ('niggas', 41), ('ass', 34), ('police', 30), ('dopeman', 28), ('know', 28), ('compton', 26), ('mc', 25), ('gangsta', 24), ('say', 24), ('motherfucker', 20), ('real', 19), ('come', 18), ('smoke', 18), ('express', 17), ('think', 16), ('right', 16), ('straight', 15), ('make', 15), ('dope', 13), ('money', 13), ('hit', 13), ('tell', 13), ('motherfucking', 12)]), ('Tyler the Creator', [('fuck', 42), ('okay', 32), ('nigga', 32), ('make', 28), ('magic', 27), ('love', 26), ('leave', 25), ('cause', 25), ('time', 23), ('fucking', 20), ('fuckin', 19), ('real', 18), ('new', 17), ('shit', 17), ('know', 17), ('need', 17), ('wolf', 16), ('said', 16), ('want', 14), ('girl', 13), ('bitch', 12), ('good', 12), ('say', 12), ('lonely', 12), ('boy', 12), ('earth', 12), ('sick', 11), ('catch', 10), ('quake', 10), ('hate', 10)]), ('Outkast', [('clean', 74), ('fresh', 49), ('know', 36), ('bitch', 35), ('hey', 32), ('shit', 27), ('really', 27), ('damn', 27), ('big', 26), ('roses', 25), ('smell', 24), ('poopooooh', 24), ('think', 22), ('right', 20), ('make', 19), ('ragtop', 17), ('crazy', 17), ('bob', 17), ('little', 17), ('real', 17), ('nigga', 16), ('way', 16), ('head', 16), ('say', 16), ('hook', 15), ('jackson', 14), ('cause', 14), ('dope', 14), ('let', 13), ('ms', 13)]), ('Immortal Technique', [('cause', 49), ('people', 37), ('know', 36), ('nigga', 33), ('god', 22), ('niggas', 21), ('shit', 21), ('fuck', 21), ('love', 15), ('want', 15), ('life', 15), ('government', 15), ('live', 15), ('point', 14), ('world', 14), ('way', 14), ('fuckin', 14), ('motherfucker', 13), ('devil', 13), ('truth', 12), ('make', 12), ('burn', 11), ('man', 11), ('stop', 11), ('white', 11), ('face', 11), ('didnt', 10), ('better', 10), ('america', 10), ('ll', 10)]), ('A Tribe Called Quest', [('buggin', 66), ('make', 48), ('girl', 38), ('relax', 37), ('settle', 36), ('bonita', 35), ('let', 33), ('check', 31), ('yo', 29), ('applebum', 25), ('happen', 25), ('kick', 24), ('cause', 23), ('somethin', 20), ('jazz', 20), ('yes', 19), ('know', 19), ('rhyme', 18), ('time', 18), ('dawg', 18), ('stop', 17), ('brothers', 16), ('come', 16), ('niggas', 15), ('really', 15), ('people', 14), ('man', 13), ('space', 12), ('tribe', 12), ('said', 12)]), ('Kendrick Lamar', [('bitch', 77), ('hol', 61), ('love', 41), ('nigga', 38), ('drank', 33), ('kill', 32), ('funk', 30), ('sit', 29), ('lil', 28), ('way', 28), ('vibe', 27), ('bish', 24), ('know', 24), ('shit', 23), ('feel', 22), ('dna', 20), ('want', 19), ('run', 19), ('tell', 19), ('inside', 18), ('fuck', 18), ('say', 18), ('humble', 17), ('life', 16), ('money', 15), ('world', 15), ('niggas', 13), ('pool', 13), ('kunta', 13), ('liquor', 13)]), ('The Notorious B.I.G.', [('bad', 61), ('bone', 57), ('nigga', 57), ('big', 50), ('know', 48), ('motherfuckers', 44), ('lets', 41), ('ride', 41), ('high', 39), ('loot', 34), ('niggas', 33), ('shit', 32), ('come', 32), ('money', 27), ('cause', 27), ('love', 27), ('man', 24), ('tell', 22), ('need', 21), ('good', 20), ('puff', 20), ('fuck', 20), ('daddy', 19), ('party', 18), ('rock', 18), ('everybody', 18), ('poppa', 17), ('want', 17), ('right', 17), ('baby', 16)])]"
      ]
     },
     "execution_count": 23,
     "metadata": {},
     "output_type": "execute_result"
    }
   ],
   "source": [
    "Counter(top_dict_new).most_common()"
   ]
  },
  {
   "cell_type": "code",
   "execution_count": 24,
   "id": "5f65ad5e",
   "metadata": {},
   "outputs": [],
   "source": [
    "data_swear_words = new_dtm.transpose()[['fuck','fuckin','fucking','shit','nigga','niggas','cunt',\n",
    "                                     'ass','motherfucker','motherfuckers','motherfuckin','bitch','damn']]"
   ]
  },
  {
   "cell_type": "code",
   "execution_count": 26,
   "id": "105e70ad",
   "metadata": {},
   "outputs": [],
   "source": [
    "#see who says which swear word most\n",
    "data_profanity = pd.concat([data_swear_words.fuck,data_swear_words.fuckin,data_swear_words.fucking,\n",
    "                           data_swear_words.shit,data_swear_words.nigga,data_swear_words.niggas,\n",
    "                           data_swear_words.cunt,data_swear_words.ass,data_swear_words.motherfucker,\n",
    "                           data_swear_words.motherfuckers,data_swear_words.motherfuckin,\n",
    "                           data_swear_words.bitch,data_swear_words.damn],axis=1)"
   ]
  },
  {
   "cell_type": "code",
   "execution_count": 27,
   "id": "84bbd637",
   "metadata": {},
   "outputs": [
    {
     "data": {
      "text/html": [
       "<div>\n",
       "<style scoped>\n",
       "    .dataframe tbody tr th:only-of-type {\n",
       "        vertical-align: middle;\n",
       "    }\n",
       "\n",
       "    .dataframe tbody tr th {\n",
       "        vertical-align: top;\n",
       "    }\n",
       "\n",
       "    .dataframe thead th {\n",
       "        text-align: right;\n",
       "    }\n",
       "</style>\n",
       "<table border=\"1\" class=\"dataframe\">\n",
       "  <thead>\n",
       "    <tr style=\"text-align: right;\">\n",
       "      <th></th>\n",
       "      <th>fuck</th>\n",
       "      <th>fuckin</th>\n",
       "      <th>fucking</th>\n",
       "      <th>shit</th>\n",
       "      <th>nigga</th>\n",
       "      <th>niggas</th>\n",
       "      <th>cunt</th>\n",
       "      <th>ass</th>\n",
       "      <th>motherfucker</th>\n",
       "      <th>motherfuckers</th>\n",
       "      <th>motherfuckin</th>\n",
       "      <th>bitch</th>\n",
       "      <th>damn</th>\n",
       "    </tr>\n",
       "  </thead>\n",
       "  <tbody>\n",
       "    <tr>\n",
       "      <th>2pac</th>\n",
       "      <td>32</td>\n",
       "      <td>3</td>\n",
       "      <td>0</td>\n",
       "      <td>20</td>\n",
       "      <td>60</td>\n",
       "      <td>52</td>\n",
       "      <td>0</td>\n",
       "      <td>4</td>\n",
       "      <td>6</td>\n",
       "      <td>16</td>\n",
       "      <td>10</td>\n",
       "      <td>8</td>\n",
       "      <td>1</td>\n",
       "    </tr>\n",
       "    <tr>\n",
       "      <th>A Tribe Called Quest</th>\n",
       "      <td>1</td>\n",
       "      <td>0</td>\n",
       "      <td>2</td>\n",
       "      <td>8</td>\n",
       "      <td>6</td>\n",
       "      <td>15</td>\n",
       "      <td>0</td>\n",
       "      <td>2</td>\n",
       "      <td>0</td>\n",
       "      <td>0</td>\n",
       "      <td>0</td>\n",
       "      <td>2</td>\n",
       "      <td>3</td>\n",
       "    </tr>\n",
       "    <tr>\n",
       "      <th>Immortal Technique</th>\n",
       "      <td>21</td>\n",
       "      <td>14</td>\n",
       "      <td>4</td>\n",
       "      <td>21</td>\n",
       "      <td>33</td>\n",
       "      <td>21</td>\n",
       "      <td>0</td>\n",
       "      <td>2</td>\n",
       "      <td>13</td>\n",
       "      <td>8</td>\n",
       "      <td>3</td>\n",
       "      <td>8</td>\n",
       "      <td>2</td>\n",
       "    </tr>\n",
       "    <tr>\n",
       "      <th>Jay-z and Kanye West</th>\n",
       "      <td>12</td>\n",
       "      <td>4</td>\n",
       "      <td>3</td>\n",
       "      <td>23</td>\n",
       "      <td>29</td>\n",
       "      <td>37</td>\n",
       "      <td>0</td>\n",
       "      <td>1</td>\n",
       "      <td>10</td>\n",
       "      <td>10</td>\n",
       "      <td>1</td>\n",
       "      <td>8</td>\n",
       "      <td>7</td>\n",
       "    </tr>\n",
       "    <tr>\n",
       "      <th>Kendrick Lamar</th>\n",
       "      <td>18</td>\n",
       "      <td>4</td>\n",
       "      <td>2</td>\n",
       "      <td>23</td>\n",
       "      <td>38</td>\n",
       "      <td>13</td>\n",
       "      <td>0</td>\n",
       "      <td>6</td>\n",
       "      <td>2</td>\n",
       "      <td>1</td>\n",
       "      <td>3</td>\n",
       "      <td>77</td>\n",
       "      <td>5</td>\n",
       "    </tr>\n",
       "    <tr>\n",
       "      <th>Logic</th>\n",
       "      <td>35</td>\n",
       "      <td>13</td>\n",
       "      <td>2</td>\n",
       "      <td>39</td>\n",
       "      <td>10</td>\n",
       "      <td>2</td>\n",
       "      <td>0</td>\n",
       "      <td>2</td>\n",
       "      <td>2</td>\n",
       "      <td>8</td>\n",
       "      <td>0</td>\n",
       "      <td>9</td>\n",
       "      <td>5</td>\n",
       "    </tr>\n",
       "    <tr>\n",
       "      <th>N.W.A.</th>\n",
       "      <td>135</td>\n",
       "      <td>6</td>\n",
       "      <td>11</td>\n",
       "      <td>49</td>\n",
       "      <td>67</td>\n",
       "      <td>41</td>\n",
       "      <td>0</td>\n",
       "      <td>34</td>\n",
       "      <td>20</td>\n",
       "      <td>10</td>\n",
       "      <td>5</td>\n",
       "      <td>54</td>\n",
       "      <td>6</td>\n",
       "    </tr>\n",
       "    <tr>\n",
       "      <th>Nas</th>\n",
       "      <td>19</td>\n",
       "      <td>4</td>\n",
       "      <td>1</td>\n",
       "      <td>29</td>\n",
       "      <td>15</td>\n",
       "      <td>42</td>\n",
       "      <td>0</td>\n",
       "      <td>7</td>\n",
       "      <td>1</td>\n",
       "      <td>1</td>\n",
       "      <td>2</td>\n",
       "      <td>16</td>\n",
       "      <td>2</td>\n",
       "    </tr>\n",
       "    <tr>\n",
       "      <th>Outkast</th>\n",
       "      <td>3</td>\n",
       "      <td>1</td>\n",
       "      <td>1</td>\n",
       "      <td>27</td>\n",
       "      <td>16</td>\n",
       "      <td>8</td>\n",
       "      <td>0</td>\n",
       "      <td>2</td>\n",
       "      <td>0</td>\n",
       "      <td>0</td>\n",
       "      <td>0</td>\n",
       "      <td>35</td>\n",
       "      <td>27</td>\n",
       "    </tr>\n",
       "    <tr>\n",
       "      <th>The Notorious B.I.G.</th>\n",
       "      <td>20</td>\n",
       "      <td>11</td>\n",
       "      <td>7</td>\n",
       "      <td>32</td>\n",
       "      <td>57</td>\n",
       "      <td>33</td>\n",
       "      <td>0</td>\n",
       "      <td>9</td>\n",
       "      <td>8</td>\n",
       "      <td>44</td>\n",
       "      <td>1</td>\n",
       "      <td>10</td>\n",
       "      <td>2</td>\n",
       "    </tr>\n",
       "    <tr>\n",
       "      <th>Tyler the Creator</th>\n",
       "      <td>42</td>\n",
       "      <td>19</td>\n",
       "      <td>20</td>\n",
       "      <td>17</td>\n",
       "      <td>32</td>\n",
       "      <td>7</td>\n",
       "      <td>3</td>\n",
       "      <td>4</td>\n",
       "      <td>0</td>\n",
       "      <td>0</td>\n",
       "      <td>4</td>\n",
       "      <td>12</td>\n",
       "      <td>6</td>\n",
       "    </tr>\n",
       "    <tr>\n",
       "      <th>Wu-Tang Clan</th>\n",
       "      <td>37</td>\n",
       "      <td>51</td>\n",
       "      <td>1</td>\n",
       "      <td>29</td>\n",
       "      <td>30</td>\n",
       "      <td>39</td>\n",
       "      <td>0</td>\n",
       "      <td>11</td>\n",
       "      <td>2</td>\n",
       "      <td>2</td>\n",
       "      <td>22</td>\n",
       "      <td>2</td>\n",
       "      <td>4</td>\n",
       "    </tr>\n",
       "  </tbody>\n",
       "</table>\n",
       "</div>"
      ],
      "text/plain": [
       "                      fuck  fuckin  fucking  shit  nigga  niggas  cunt  ass  \\\n",
       "2pac                    32       3        0    20     60      52     0    4   \n",
       "A Tribe Called Quest     1       0        2     8      6      15     0    2   \n",
       "Immortal Technique      21      14        4    21     33      21     0    2   \n",
       "Jay-z and Kanye West    12       4        3    23     29      37     0    1   \n",
       "Kendrick Lamar          18       4        2    23     38      13     0    6   \n",
       "Logic                   35      13        2    39     10       2     0    2   \n",
       "N.W.A.                 135       6       11    49     67      41     0   34   \n",
       "Nas                     19       4        1    29     15      42     0    7   \n",
       "Outkast                  3       1        1    27     16       8     0    2   \n",
       "The Notorious B.I.G.    20      11        7    32     57      33     0    9   \n",
       "Tyler the Creator       42      19       20    17     32       7     3    4   \n",
       "Wu-Tang Clan            37      51        1    29     30      39     0   11   \n",
       "\n",
       "                      motherfucker  motherfuckers  motherfuckin  bitch  damn  \n",
       "2pac                             6             16            10      8     1  \n",
       "A Tribe Called Quest             0              0             0      2     3  \n",
       "Immortal Technique              13              8             3      8     2  \n",
       "Jay-z and Kanye West            10             10             1      8     7  \n",
       "Kendrick Lamar                   2              1             3     77     5  \n",
       "Logic                            2              8             0      9     5  \n",
       "N.W.A.                          20             10             5     54     6  \n",
       "Nas                              1              1             2     16     2  \n",
       "Outkast                          0              0             0     35    27  \n",
       "The Notorious B.I.G.             8             44             1     10     2  \n",
       "Tyler the Creator                0              0             4     12     6  \n",
       "Wu-Tang Clan                     2              2            22      2     4  "
      ]
     },
     "execution_count": 27,
     "metadata": {},
     "output_type": "execute_result"
    }
   ],
   "source": [
    "data_profanity"
   ]
  },
  {
   "cell_type": "code",
   "execution_count": 28,
   "id": "413dcf4d",
   "metadata": {},
   "outputs": [],
   "source": [
    "#find total number of swear words\n",
    "data_profanity['Total'] = data_profanity.sum(axis=1)\n",
    "data_profanity.index.name = 'Artist'"
   ]
  },
  {
   "cell_type": "code",
   "execution_count": 29,
   "id": "5beaba67",
   "metadata": {},
   "outputs": [],
   "source": [
    "import matplotlib.pyplot as plt\n",
    "import seaborn as sns"
   ]
  },
  {
   "cell_type": "code",
   "execution_count": 30,
   "id": "398d638e",
   "metadata": {},
   "outputs": [
    {
     "data": {
      "image/png": "[encoded data removed]",
      "text/plain": [
       "<Figure size 720x432 with 1 Axes>"
      ]
     },
     "metadata": {
      "needs_background": "light"
     },
     "output_type": "display_data"
    }
   ],
   "source": [
    "plt.figure(figsize=(10,6))\n",
    "sns.barplot(data=data_profanity,x=data_profanity.index,y='Total',order=data_profanity.sort_values('Total').index)\n",
    "plt.title('Total amount of profanity per artist')\n",
    "plt.xticks(rotation=90);"
   ]
  },
  {
   "cell_type": "code",
   "execution_count": 33,
   "id": "960f3724",
   "metadata": {},
   "outputs": [],
   "source": [
    "df = pd.read_pickle('clean-df.pkl')"
   ]
  },
  {
   "cell_type": "markdown",
   "id": "d0271e29",
   "metadata": {},
   "source": [
    "## Calculate words per minute"
   ]
  },
  {
   "cell_type": "code",
   "execution_count": 34,
   "id": "2c0f077e",
   "metadata": {},
   "outputs": [],
   "source": [
    "songlength = ['00:04:12', '00:04:51', '00:04:47', '00:05:50', '00:05:38', '00:04:11', '00:03:36', '00:06:10', '00:02:57', '00:06:33',\n",
    "              '00:02:52', '00:03:46', '00:04:10', '00:04:11', '00:03:36', '00:03:37', '00:03:49', '00:04:10', '00:05:41', '00:03:46',\n",
    "              '00:05:45', '00:04:18', '00:05:36', '00:04:25', '00:06:18', '00:04:23', '00:03:10', '00:05:25', '00:03:08', '00:04:32',\n",
    "              '00:03:55', '00:04:30', '00:06:09', '00:05:19', '00:03:50', '00:05:04', '00:04:00', '00:07:06', '00:04:25', '00:05:24',\n",
    "              '00:04:53', '00:04:37', '00:03:30', '00:04:50', '00:03:54', '00:03:22', '00:05:25', '00:04:42', '00:04:12', '00:03:57',\n",
    "              '00:05:02', '00:04:12', '00:02:50', '00:03:49', '00:03:24', '00:06:06', '00:05:19', '00:04:17', '00:04:45', '00:04:43',\n",
    "              '00:05:12', '00:04:28', '00:04:22', '00:05:12', '00:04:40', '00:04:44', '00:04:38', '00:05:07', '00:05:01', '00:04:06',\n",
    "              '00:04:10', '00:04:05', '00:02:47', '00:03:08', '00:02:42', '00:09:19', '00:03:23', '00:05:31', '00:03:38', '00:04:07',\n",
    "              '00:03:39', '00:04:32', '00:02:58', '00:02:20', '00:05:00', '00:04:16', '00:08:23', '00:03:21', '00:04:35', '00:04:32',\n",
    "              '00:04:09', '00:03:10', '00:03:00', '00:05:19', '00:04:13', '00:03:15', '00:04:15', '00:03:25', '00:04:13', '00:02:46',\n",
    "              '00:09:39', '00:07:48', '00:04:01', '00:04:49', '00:05:18', '00:05:53', '00:04:28', '00:06:13', '00:03:38', '00:04:40',\n",
    "             '00:02:57', '00:05:50', '00:04:07', '00:03:05', '00:06:26', '00:04:14', '00:05:10', '00:03:54', '00:03:33', '00:03:32']\n",
    "\n",
    "df['Song Length'] = songlength"
   ]
  },
  {
   "cell_type": "code",
   "execution_count": 35,
   "id": "fa7c7500",
   "metadata": {},
   "outputs": [],
   "source": [
    "#time delta format so as to be able to add times together\n",
    "\n",
    "df['Song Length'] = pd.to_timedelta(arg=df['Song Length'])"
   ]
  },
  {
   "cell_type": "code",
   "execution_count": 36,
   "id": "1cd24889",
   "metadata": {},
   "outputs": [],
   "source": [
    "#add times together and group by artist\n",
    "\n",
    "run_times = df.groupby('Artist')['Song Length'].sum()"
   ]
  },
  {
   "cell_type": "code",
   "execution_count": 37,
   "id": "3a2cee00",
   "metadata": {},
   "outputs": [
    {
     "data": {
      "text/plain": [
       "Artist\n",
       "2Pac                   0 days 00:47:30\n",
       "A Tribe Called Quest   0 days 00:39:38\n",
       "Immortal Technique     0 days 00:56:27\n",
       "JAY-Z & Kanye West     0 days 00:43:36\n",
       "Kendrick Lamar         0 days 00:42:48\n",
       "Logic                  0 days 00:42:50\n",
       "N.W.A                  0 days 00:47:00\n",
       "Nas                    0 days 00:43:22\n",
       "OutKast                0 days 00:49:42\n",
       "The Notorious B.I.G.   0 days 00:44:27\n",
       "Tyler, The Creator     0 days 00:37:45\n",
       "Wu-Tang Clan           0 days 00:48:45\n",
       "Name: Song Length, dtype: timedelta64[ns]"
      ]
     },
     "execution_count": 37,
     "metadata": {},
     "output_type": "execute_result"
    }
   ],
   "source": [
    "run_times"
   ]
  },
  {
   "cell_type": "code",
   "execution_count": 38,
   "id": "46c6963c",
   "metadata": {},
   "outputs": [],
   "source": [
    "#convert this timedelta object back into integer so operations can be performed\n",
    "#do this in seconds \n",
    "#pay attention to column order \n",
    "\n",
    "run_time_seconds = [2850, 2378, 3107, 2616, 2568, 2570, 2820, 2602, 2982, 2667, 2265, 2925]"
   ]
  },
  {
   "cell_type": "code",
   "execution_count": 39,
   "id": "0ae6c038",
   "metadata": {},
   "outputs": [],
   "source": [
    "#convert to mins \n",
    "run_time_min = []\n",
    "for e in run_time_seconds:\n",
    "    mintime = e / 60\n",
    "    mintime = float(mintime)\n",
    "    run_time_min.append(mintime)"
   ]
  },
  {
   "cell_type": "code",
   "execution_count": 57,
   "id": "6f63390b",
   "metadata": {},
   "outputs": [],
   "source": [
    "#create new count vectoriser with only artist names and random sounds as stop_words for words per minute \n",
    "\n",
    "cv_uncut = CountVectorizer(stop_words=add_stop_words)\n",
    "data_cv_uncut = cv_uncut.fit_transform(data_clean.Lyrics)\n",
    "data_stop_uncut = pd.DataFrame(data_cv_uncut.toarray(), columns=cv_uncut.get_feature_names_out())\n",
    "data_stop_uncut.index = data_clean.index"
   ]
  },
  {
   "cell_type": "code",
   "execution_count": 62,
   "id": "17ae7d3a",
   "metadata": {},
   "outputs": [],
   "source": [
    "data_stop_uncut = data_stop_uncut.transpose()"
   ]
  },
  {
   "cell_type": "code",
   "execution_count": 63,
   "id": "2322eb0c",
   "metadata": {},
   "outputs": [],
   "source": [
    "#first find total number of words per group\n",
    "total_list = []\n",
    "for e in data_stop_uncut.columns:\n",
    "    totals = sum(data_stop_uncut[e])\n",
    "    total_list.append(totals)"
   ]
  },
  {
   "cell_type": "code",
   "execution_count": 64,
   "id": "d936f8b7",
   "metadata": {},
   "outputs": [
    {
     "data": {
      "text/plain": [
       "[7131, 5494, 7837, 4147, 6138, 5881, 6544, 6078, 5351, 6272, 4605, 6489]"
      ]
     },
     "execution_count": 64,
     "metadata": {},
     "output_type": "execute_result"
    }
   ],
   "source": [
    "total_list"
   ]
  },
  {
   "cell_type": "code",
   "execution_count": 65,
   "id": "5f5ae1c1",
   "metadata": {},
   "outputs": [],
   "source": [
    "#make sure dataframe is sorted first \n",
    "data_words = data_words.sort_values(by=['Artist'])"
   ]
  },
  {
   "cell_type": "code",
   "execution_count": 66,
   "id": "716e558a",
   "metadata": {},
   "outputs": [],
   "source": [
    "#add columns to unique words dataframe\n",
    "data_words['Total Words'] = total_list\n",
    "data_words['Run Time (m)'] = run_time_min"
   ]
  },
  {
   "cell_type": "code",
   "execution_count": 67,
   "id": "1b708732",
   "metadata": {},
   "outputs": [],
   "source": [
    "#words per minute \n",
    "\n",
    "data_words['Words_per_min'] = data_words['Total Words'] / data_words['Run Time (m)']"
   ]
  },
  {
   "cell_type": "code",
   "execution_count": 68,
   "id": "8ee341d4",
   "metadata": {},
   "outputs": [
    {
     "data": {
      "text/html": [
       "<div>\n",
       "<style scoped>\n",
       "    .dataframe tbody tr th:only-of-type {\n",
       "        vertical-align: middle;\n",
       "    }\n",
       "\n",
       "    .dataframe tbody tr th {\n",
       "        vertical-align: top;\n",
       "    }\n",
       "\n",
       "    .dataframe thead th {\n",
       "        text-align: right;\n",
       "    }\n",
       "</style>\n",
       "<table border=\"1\" class=\"dataframe\">\n",
       "  <thead>\n",
       "    <tr style=\"text-align: right;\">\n",
       "      <th></th>\n",
       "      <th>Artist</th>\n",
       "      <th>Unique Words</th>\n",
       "      <th>Total Words</th>\n",
       "      <th>Run Time (m)</th>\n",
       "      <th>Words_per_min</th>\n",
       "    </tr>\n",
       "  </thead>\n",
       "  <tbody>\n",
       "    <tr>\n",
       "      <th>6</th>\n",
       "      <td>2pac</td>\n",
       "      <td>1266</td>\n",
       "      <td>7131</td>\n",
       "      <td>47.500000</td>\n",
       "      <td>150.126316</td>\n",
       "    </tr>\n",
       "    <tr>\n",
       "      <th>1</th>\n",
       "      <td>A Tribe Called Quest</td>\n",
       "      <td>1261</td>\n",
       "      <td>5494</td>\n",
       "      <td>39.633333</td>\n",
       "      <td>138.620690</td>\n",
       "    </tr>\n",
       "    <tr>\n",
       "      <th>10</th>\n",
       "      <td>Immortal Technique</td>\n",
       "      <td>1104</td>\n",
       "      <td>7837</td>\n",
       "      <td>51.783333</td>\n",
       "      <td>151.342131</td>\n",
       "    </tr>\n",
       "    <tr>\n",
       "      <th>8</th>\n",
       "      <td>Jay-z and Kanye West</td>\n",
       "      <td>1181</td>\n",
       "      <td>4147</td>\n",
       "      <td>43.600000</td>\n",
       "      <td>95.114679</td>\n",
       "    </tr>\n",
       "    <tr>\n",
       "      <th>11</th>\n",
       "      <td>Kendrick Lamar</td>\n",
       "      <td>1766</td>\n",
       "      <td>6138</td>\n",
       "      <td>42.800000</td>\n",
       "      <td>143.411215</td>\n",
       "    </tr>\n",
       "    <tr>\n",
       "      <th>7</th>\n",
       "      <td>Logic</td>\n",
       "      <td>1587</td>\n",
       "      <td>5881</td>\n",
       "      <td>42.833333</td>\n",
       "      <td>137.299611</td>\n",
       "    </tr>\n",
       "    <tr>\n",
       "      <th>2</th>\n",
       "      <td>N.W.A.</td>\n",
       "      <td>1918</td>\n",
       "      <td>6544</td>\n",
       "      <td>47.000000</td>\n",
       "      <td>139.234043</td>\n",
       "    </tr>\n",
       "    <tr>\n",
       "      <th>4</th>\n",
       "      <td>Nas</td>\n",
       "      <td>1281</td>\n",
       "      <td>6078</td>\n",
       "      <td>43.366667</td>\n",
       "      <td>140.153728</td>\n",
       "    </tr>\n",
       "    <tr>\n",
       "      <th>3</th>\n",
       "      <td>Outkast</td>\n",
       "      <td>1086</td>\n",
       "      <td>5351</td>\n",
       "      <td>49.700000</td>\n",
       "      <td>107.665996</td>\n",
       "    </tr>\n",
       "    <tr>\n",
       "      <th>5</th>\n",
       "      <td>The Notorious B.I.G.</td>\n",
       "      <td>1162</td>\n",
       "      <td>6272</td>\n",
       "      <td>44.450000</td>\n",
       "      <td>141.102362</td>\n",
       "    </tr>\n",
       "    <tr>\n",
       "      <th>9</th>\n",
       "      <td>Tyler the Creator</td>\n",
       "      <td>1334</td>\n",
       "      <td>4605</td>\n",
       "      <td>37.750000</td>\n",
       "      <td>121.986755</td>\n",
       "    </tr>\n",
       "    <tr>\n",
       "      <th>0</th>\n",
       "      <td>Wu-Tang Clan</td>\n",
       "      <td>1335</td>\n",
       "      <td>6489</td>\n",
       "      <td>48.750000</td>\n",
       "      <td>133.107692</td>\n",
       "    </tr>\n",
       "  </tbody>\n",
       "</table>\n",
       "</div>"
      ],
      "text/plain": [
       "                  Artist  Unique Words  Total Words  Run Time (m)  \\\n",
       "6                   2pac          1266         7131     47.500000   \n",
       "1   A Tribe Called Quest          1261         5494     39.633333   \n",
       "10    Immortal Technique          1104         7837     51.783333   \n",
       "8   Jay-z and Kanye West          1181         4147     43.600000   \n",
       "11        Kendrick Lamar          1766         6138     42.800000   \n",
       "7                  Logic          1587         5881     42.833333   \n",
       "2                 N.W.A.          1918         6544     47.000000   \n",
       "4                    Nas          1281         6078     43.366667   \n",
       "3                Outkast          1086         5351     49.700000   \n",
       "5   The Notorious B.I.G.          1162         6272     44.450000   \n",
       "9      Tyler the Creator          1334         4605     37.750000   \n",
       "0           Wu-Tang Clan          1335         6489     48.750000   \n",
       "\n",
       "    Words_per_min  \n",
       "6      150.126316  \n",
       "1      138.620690  \n",
       "10     151.342131  \n",
       "8       95.114679  \n",
       "11     143.411215  \n",
       "7      137.299611  \n",
       "2      139.234043  \n",
       "4      140.153728  \n",
       "3      107.665996  \n",
       "5      141.102362  \n",
       "9      121.986755  \n",
       "0      133.107692  "
      ]
     },
     "execution_count": 68,
     "metadata": {},
     "output_type": "execute_result"
    }
   ],
   "source": [
    "data_words"
   ]
  },
  {
   "cell_type": "code",
   "execution_count": 69,
   "id": "3108fc09",
   "metadata": {},
   "outputs": [
    {
     "data": {
      "text/html": [
       "<div>\n",
       "<style scoped>\n",
       "    .dataframe tbody tr th:only-of-type {\n",
       "        vertical-align: middle;\n",
       "    }\n",
       "\n",
       "    .dataframe tbody tr th {\n",
       "        vertical-align: top;\n",
       "    }\n",
       "\n",
       "    .dataframe thead th {\n",
       "        text-align: right;\n",
       "    }\n",
       "</style>\n",
       "<table border=\"1\" class=\"dataframe\">\n",
       "  <thead>\n",
       "    <tr style=\"text-align: right;\">\n",
       "      <th></th>\n",
       "      <th>Artist</th>\n",
       "      <th>Unique Words</th>\n",
       "      <th>Total Words</th>\n",
       "      <th>Run Time (m)</th>\n",
       "      <th>Words_per_min</th>\n",
       "    </tr>\n",
       "  </thead>\n",
       "  <tbody>\n",
       "    <tr>\n",
       "      <th>10</th>\n",
       "      <td>Immortal Technique</td>\n",
       "      <td>1104</td>\n",
       "      <td>7837</td>\n",
       "      <td>51.783333</td>\n",
       "      <td>151.342131</td>\n",
       "    </tr>\n",
       "    <tr>\n",
       "      <th>6</th>\n",
       "      <td>2pac</td>\n",
       "      <td>1266</td>\n",
       "      <td>7131</td>\n",
       "      <td>47.500000</td>\n",
       "      <td>150.126316</td>\n",
       "    </tr>\n",
       "    <tr>\n",
       "      <th>11</th>\n",
       "      <td>Kendrick Lamar</td>\n",
       "      <td>1766</td>\n",
       "      <td>6138</td>\n",
       "      <td>42.800000</td>\n",
       "      <td>143.411215</td>\n",
       "    </tr>\n",
       "    <tr>\n",
       "      <th>5</th>\n",
       "      <td>The Notorious B.I.G.</td>\n",
       "      <td>1162</td>\n",
       "      <td>6272</td>\n",
       "      <td>44.450000</td>\n",
       "      <td>141.102362</td>\n",
       "    </tr>\n",
       "    <tr>\n",
       "      <th>4</th>\n",
       "      <td>Nas</td>\n",
       "      <td>1281</td>\n",
       "      <td>6078</td>\n",
       "      <td>43.366667</td>\n",
       "      <td>140.153728</td>\n",
       "    </tr>\n",
       "    <tr>\n",
       "      <th>2</th>\n",
       "      <td>N.W.A.</td>\n",
       "      <td>1918</td>\n",
       "      <td>6544</td>\n",
       "      <td>47.000000</td>\n",
       "      <td>139.234043</td>\n",
       "    </tr>\n",
       "    <tr>\n",
       "      <th>1</th>\n",
       "      <td>A Tribe Called Quest</td>\n",
       "      <td>1261</td>\n",
       "      <td>5494</td>\n",
       "      <td>39.633333</td>\n",
       "      <td>138.620690</td>\n",
       "    </tr>\n",
       "    <tr>\n",
       "      <th>7</th>\n",
       "      <td>Logic</td>\n",
       "      <td>1587</td>\n",
       "      <td>5881</td>\n",
       "      <td>42.833333</td>\n",
       "      <td>137.299611</td>\n",
       "    </tr>\n",
       "    <tr>\n",
       "      <th>0</th>\n",
       "      <td>Wu-Tang Clan</td>\n",
       "      <td>1335</td>\n",
       "      <td>6489</td>\n",
       "      <td>48.750000</td>\n",
       "      <td>133.107692</td>\n",
       "    </tr>\n",
       "    <tr>\n",
       "      <th>9</th>\n",
       "      <td>Tyler the Creator</td>\n",
       "      <td>1334</td>\n",
       "      <td>4605</td>\n",
       "      <td>37.750000</td>\n",
       "      <td>121.986755</td>\n",
       "    </tr>\n",
       "    <tr>\n",
       "      <th>3</th>\n",
       "      <td>Outkast</td>\n",
       "      <td>1086</td>\n",
       "      <td>5351</td>\n",
       "      <td>49.700000</td>\n",
       "      <td>107.665996</td>\n",
       "    </tr>\n",
       "    <tr>\n",
       "      <th>8</th>\n",
       "      <td>Jay-z and Kanye West</td>\n",
       "      <td>1181</td>\n",
       "      <td>4147</td>\n",
       "      <td>43.600000</td>\n",
       "      <td>95.114679</td>\n",
       "    </tr>\n",
       "  </tbody>\n",
       "</table>\n",
       "</div>"
      ],
      "text/plain": [
       "                  Artist  Unique Words  Total Words  Run Time (m)  \\\n",
       "10    Immortal Technique          1104         7837     51.783333   \n",
       "6                   2pac          1266         7131     47.500000   \n",
       "11        Kendrick Lamar          1766         6138     42.800000   \n",
       "5   The Notorious B.I.G.          1162         6272     44.450000   \n",
       "4                    Nas          1281         6078     43.366667   \n",
       "2                 N.W.A.          1918         6544     47.000000   \n",
       "1   A Tribe Called Quest          1261         5494     39.633333   \n",
       "7                  Logic          1587         5881     42.833333   \n",
       "0           Wu-Tang Clan          1335         6489     48.750000   \n",
       "9      Tyler the Creator          1334         4605     37.750000   \n",
       "3                Outkast          1086         5351     49.700000   \n",
       "8   Jay-z and Kanye West          1181         4147     43.600000   \n",
       "\n",
       "    Words_per_min  \n",
       "10     151.342131  \n",
       "6      150.126316  \n",
       "11     143.411215  \n",
       "5      141.102362  \n",
       "4      140.153728  \n",
       "2      139.234043  \n",
       "1      138.620690  \n",
       "7      137.299611  \n",
       "0      133.107692  \n",
       "9      121.986755  \n",
       "3      107.665996  \n",
       "8       95.114679  "
      ]
     },
     "execution_count": 69,
     "metadata": {},
     "output_type": "execute_result"
    }
   ],
   "source": [
    "#sort by words per min\n",
    "wpm_sort = data_words.sort_values(by='Words_per_min', ascending=False)\n",
    "wpm_sort"
   ]
  },
  {
   "cell_type": "code",
   "execution_count": 70,
   "id": "a3c368c4",
   "metadata": {},
   "outputs": [
    {
     "data": {
      "image/png": "[encoded data removed]",
      "text/plain": [
       "<Figure size 864x432 with 2 Axes>"
      ]
     },
     "metadata": {
      "needs_background": "light"
     },
     "output_type": "display_data"
    }
   ],
   "source": [
    "#plot findings\n",
    "import numpy as np\n",
    "\n",
    "y_pos = np.arange(len(data_words))\n",
    "plt.figure(figsize=(12,6))\n",
    "\n",
    "plt.subplot(1, 2, 1)\n",
    "plt.barh(y_pos, data_unique_sort['Unique Words'], align='center')\n",
    "plt.yticks(y_pos, data_unique_sort.Artist)\n",
    "plt.title('Number of Unique Words', fontsize=20)\n",
    "\n",
    "plt.subplot(1, 2, 2)\n",
    "plt.barh(y_pos, wpm_sort.Words_per_min, align='center')\n",
    "plt.yticks(y_pos, wpm_sort.Artist)\n",
    "plt.title('Number of Words Per Minute', fontsize=20)\n",
    "\n",
    "plt.tight_layout()\n",
    "plt.show()"
   ]
  },
  {
   "cell_type": "code",
   "execution_count": null,
   "id": "edbe13e2",
   "metadata": {},
   "outputs": [],
   "source": []
  }
 ],
 "metadata": {
  "kernelspec": {
   "display_name": "Python 3",
   "language": "python",
   "name": "python3"
  },
  "language_info": {
   "codemirror_mode": {
    "name": "ipython",
    "version": 3
   },
   "file_extension": ".py",
   "mimetype": "text/x-python",
   "name": "python",
   "nbconvert_exporter": "python",
   "pygments_lexer": "ipython3",
   "version": "3.8.8"
  }
 },
 "nbformat": 4,
 "nbformat_minor": 5
}
